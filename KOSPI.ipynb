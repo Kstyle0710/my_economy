{
 "cells": [
  {
   "cell_type": "code",
   "execution_count": 106,
   "metadata": {},
   "outputs": [],
   "source": [
    "import pandas as pd\n",
    "import FinanceDataReader as fdr\n",
    "import matplotlib.pyplot as plt\n",
    "import matplotlib as mpl"
   ]
  },
  {
   "cell_type": "code",
   "execution_count": 107,
   "metadata": {},
   "outputs": [],
   "source": [
    "## 폰트 설정\n",
    "import matplotlib.font_manager as fm\n",
    "fontpath = './font/NanumGothic.ttf'\n",
    "font = fm.FontProperties(fname=fontpath, size=10)\n",
    "plt.rc('font', family=\"NanumGothic\")\n",
    "mpl.font_manager._rebuild()"
   ]
  },
  {
   "cell_type": "code",
   "execution_count": 88,
   "metadata": {},
   "outputs": [],
   "source": [
    "company_df = pd.read_excel(\"./src/KRX종목코드.xlsx\", dtype=object, index_col=0)\n",
    "# company_df[\"종목코드\"][\"삼성전자\"]"
   ]
  },
  {
   "cell_type": "code",
   "execution_count": 93,
   "metadata": {},
   "outputs": [],
   "source": [
    "## 기업별 주가정보 호출 함수\n",
    "def stock_info(name, std):\n",
    "    code = company_df[\"종목코드\"][name]\n",
    "    result = fdr.DataReader(code, std)\n",
    "    return result"
   ]
  },
  {
   "cell_type": "code",
   "execution_count": 94,
   "metadata": {},
   "outputs": [
    {
     "data": {
      "text/html": [
       "<div>\n",
       "<style scoped>\n",
       "    .dataframe tbody tr th:only-of-type {\n",
       "        vertical-align: middle;\n",
       "    }\n",
       "\n",
       "    .dataframe tbody tr th {\n",
       "        vertical-align: top;\n",
       "    }\n",
       "\n",
       "    .dataframe thead th {\n",
       "        text-align: right;\n",
       "    }\n",
       "</style>\n",
       "<table border=\"1\" class=\"dataframe\">\n",
       "  <thead>\n",
       "    <tr style=\"text-align: right;\">\n",
       "      <th></th>\n",
       "      <th>Close</th>\n",
       "      <th>Open</th>\n",
       "      <th>High</th>\n",
       "      <th>Low</th>\n",
       "      <th>Volume</th>\n",
       "      <th>Change</th>\n",
       "    </tr>\n",
       "    <tr>\n",
       "      <th>Date</th>\n",
       "      <th></th>\n",
       "      <th></th>\n",
       "      <th></th>\n",
       "      <th></th>\n",
       "      <th></th>\n",
       "      <th></th>\n",
       "    </tr>\n",
       "  </thead>\n",
       "  <tbody>\n",
       "    <tr>\n",
       "      <th>2000-01-04</th>\n",
       "      <td>1059.04</td>\n",
       "      <td>1028.33</td>\n",
       "      <td>1066.18</td>\n",
       "      <td>1016.59</td>\n",
       "      <td>1.959000e+08</td>\n",
       "      <td>0.0301</td>\n",
       "    </tr>\n",
       "    <tr>\n",
       "      <th>2000-01-05</th>\n",
       "      <td>986.31</td>\n",
       "      <td>1006.87</td>\n",
       "      <td>1026.52</td>\n",
       "      <td>984.05</td>\n",
       "      <td>2.577000e+08</td>\n",
       "      <td>-0.0687</td>\n",
       "    </tr>\n",
       "    <tr>\n",
       "      <th>2000-01-06</th>\n",
       "      <td>960.79</td>\n",
       "      <td>1013.95</td>\n",
       "      <td>1014.90</td>\n",
       "      <td>953.50</td>\n",
       "      <td>2.035200e+08</td>\n",
       "      <td>-0.0259</td>\n",
       "    </tr>\n",
       "    <tr>\n",
       "      <th>2000-01-07</th>\n",
       "      <td>948.65</td>\n",
       "      <td>949.17</td>\n",
       "      <td>970.16</td>\n",
       "      <td>930.84</td>\n",
       "      <td>2.156600e+08</td>\n",
       "      <td>-0.0126</td>\n",
       "    </tr>\n",
       "    <tr>\n",
       "      <th>2000-01-10</th>\n",
       "      <td>987.24</td>\n",
       "      <td>979.67</td>\n",
       "      <td>994.94</td>\n",
       "      <td>965.02</td>\n",
       "      <td>2.401800e+08</td>\n",
       "      <td>0.0407</td>\n",
       "    </tr>\n",
       "    <tr>\n",
       "      <th>...</th>\n",
       "      <td>...</td>\n",
       "      <td>...</td>\n",
       "      <td>...</td>\n",
       "      <td>...</td>\n",
       "      <td>...</td>\n",
       "      <td>...</td>\n",
       "    </tr>\n",
       "    <tr>\n",
       "      <th>2021-01-04</th>\n",
       "      <td>2944.45</td>\n",
       "      <td>2874.50</td>\n",
       "      <td>2946.54</td>\n",
       "      <td>2869.11</td>\n",
       "      <td>1.030000e+09</td>\n",
       "      <td>0.0247</td>\n",
       "    </tr>\n",
       "    <tr>\n",
       "      <th>2021-01-05</th>\n",
       "      <td>2990.57</td>\n",
       "      <td>2943.67</td>\n",
       "      <td>2990.57</td>\n",
       "      <td>2921.84</td>\n",
       "      <td>1.520000e+09</td>\n",
       "      <td>0.0157</td>\n",
       "    </tr>\n",
       "    <tr>\n",
       "      <th>2021-01-06</th>\n",
       "      <td>2968.21</td>\n",
       "      <td>2993.34</td>\n",
       "      <td>3027.16</td>\n",
       "      <td>2961.37</td>\n",
       "      <td>1.790000e+09</td>\n",
       "      <td>-0.0075</td>\n",
       "    </tr>\n",
       "    <tr>\n",
       "      <th>2021-01-07</th>\n",
       "      <td>3031.68</td>\n",
       "      <td>2980.75</td>\n",
       "      <td>3055.28</td>\n",
       "      <td>2980.75</td>\n",
       "      <td>1.520000e+09</td>\n",
       "      <td>0.0214</td>\n",
       "    </tr>\n",
       "    <tr>\n",
       "      <th>2021-01-08</th>\n",
       "      <td>3152.18</td>\n",
       "      <td>3040.11</td>\n",
       "      <td>3161.11</td>\n",
       "      <td>3040.11</td>\n",
       "      <td>1.270000e+06</td>\n",
       "      <td>0.0397</td>\n",
       "    </tr>\n",
       "  </tbody>\n",
       "</table>\n",
       "<p>5190 rows × 6 columns</p>\n",
       "</div>"
      ],
      "text/plain": [
       "              Close     Open     High      Low        Volume  Change\n",
       "Date                                                                \n",
       "2000-01-04  1059.04  1028.33  1066.18  1016.59  1.959000e+08  0.0301\n",
       "2000-01-05   986.31  1006.87  1026.52   984.05  2.577000e+08 -0.0687\n",
       "2000-01-06   960.79  1013.95  1014.90   953.50  2.035200e+08 -0.0259\n",
       "2000-01-07   948.65   949.17   970.16   930.84  2.156600e+08 -0.0126\n",
       "2000-01-10   987.24   979.67   994.94   965.02  2.401800e+08  0.0407\n",
       "...             ...      ...      ...      ...           ...     ...\n",
       "2021-01-04  2944.45  2874.50  2946.54  2869.11  1.030000e+09  0.0247\n",
       "2021-01-05  2990.57  2943.67  2990.57  2921.84  1.520000e+09  0.0157\n",
       "2021-01-06  2968.21  2993.34  3027.16  2961.37  1.790000e+09 -0.0075\n",
       "2021-01-07  3031.68  2980.75  3055.28  2980.75  1.520000e+09  0.0214\n",
       "2021-01-08  3152.18  3040.11  3161.11  3040.11  1.270000e+06  0.0397\n",
       "\n",
       "[5190 rows x 6 columns]"
      ]
     },
     "execution_count": 94,
     "metadata": {},
     "output_type": "execute_result"
    }
   ],
   "source": [
    "stock_info(\"코스피\", \"2000-01-01\")"
   ]
  },
  {
   "cell_type": "code",
   "execution_count": 109,
   "metadata": {},
   "outputs": [],
   "source": [
    "targets = [\"코스피\",\"삼성전자\", \"현대차\", \"LG화학\"]"
   ]
  },
  {
   "cell_type": "code",
   "execution_count": 110,
   "metadata": {},
   "outputs": [
    {
     "data": {
      "text/plain": [
       "4"
      ]
     },
     "execution_count": 110,
     "metadata": {},
     "output_type": "execute_result"
    }
   ],
   "source": [
    "df_list = [stock_info(target, \"2000-01-01\")['Close'] for target in targets]\n",
    "len(df_list)"
   ]
  },
  {
   "cell_type": "code",
   "execution_count": 111,
   "metadata": {},
   "outputs": [
    {
     "data": {
      "text/html": [
       "<div>\n",
       "<style scoped>\n",
       "    .dataframe tbody tr th:only-of-type {\n",
       "        vertical-align: middle;\n",
       "    }\n",
       "\n",
       "    .dataframe tbody tr th {\n",
       "        vertical-align: top;\n",
       "    }\n",
       "\n",
       "    .dataframe thead th {\n",
       "        text-align: right;\n",
       "    }\n",
       "</style>\n",
       "<table border=\"1\" class=\"dataframe\">\n",
       "  <thead>\n",
       "    <tr style=\"text-align: right;\">\n",
       "      <th></th>\n",
       "      <th>코스피</th>\n",
       "      <th>삼성전자</th>\n",
       "      <th>현대차</th>\n",
       "      <th>LG화학</th>\n",
       "    </tr>\n",
       "    <tr>\n",
       "      <th>Date</th>\n",
       "      <th></th>\n",
       "      <th></th>\n",
       "      <th></th>\n",
       "      <th></th>\n",
       "    </tr>\n",
       "  </thead>\n",
       "  <tbody>\n",
       "    <tr>\n",
       "      <th>2000-01-04</th>\n",
       "      <td>1059.04</td>\n",
       "      <td>6110.0</td>\n",
       "      <td>20700.0</td>\n",
       "      <td>NaN</td>\n",
       "    </tr>\n",
       "    <tr>\n",
       "      <th>2000-01-05</th>\n",
       "      <td>986.31</td>\n",
       "      <td>5580.0</td>\n",
       "      <td>20800.0</td>\n",
       "      <td>NaN</td>\n",
       "    </tr>\n",
       "    <tr>\n",
       "      <th>2000-01-06</th>\n",
       "      <td>960.79</td>\n",
       "      <td>5620.0</td>\n",
       "      <td>19700.0</td>\n",
       "      <td>NaN</td>\n",
       "    </tr>\n",
       "    <tr>\n",
       "      <th>2000-01-07</th>\n",
       "      <td>948.65</td>\n",
       "      <td>5540.0</td>\n",
       "      <td>20300.0</td>\n",
       "      <td>NaN</td>\n",
       "    </tr>\n",
       "    <tr>\n",
       "      <th>2000-01-10</th>\n",
       "      <td>987.24</td>\n",
       "      <td>5770.0</td>\n",
       "      <td>20000.0</td>\n",
       "      <td>NaN</td>\n",
       "    </tr>\n",
       "    <tr>\n",
       "      <th>...</th>\n",
       "      <td>...</td>\n",
       "      <td>...</td>\n",
       "      <td>...</td>\n",
       "      <td>...</td>\n",
       "    </tr>\n",
       "    <tr>\n",
       "      <th>2021-01-04</th>\n",
       "      <td>2944.45</td>\n",
       "      <td>83000.0</td>\n",
       "      <td>207500.0</td>\n",
       "      <td>889000.0</td>\n",
       "    </tr>\n",
       "    <tr>\n",
       "      <th>2021-01-05</th>\n",
       "      <td>2990.57</td>\n",
       "      <td>83900.0</td>\n",
       "      <td>209500.0</td>\n",
       "      <td>893000.0</td>\n",
       "    </tr>\n",
       "    <tr>\n",
       "      <th>2021-01-06</th>\n",
       "      <td>2968.21</td>\n",
       "      <td>82200.0</td>\n",
       "      <td>203000.0</td>\n",
       "      <td>890000.0</td>\n",
       "    </tr>\n",
       "    <tr>\n",
       "      <th>2021-01-07</th>\n",
       "      <td>3031.68</td>\n",
       "      <td>82900.0</td>\n",
       "      <td>206000.0</td>\n",
       "      <td>962000.0</td>\n",
       "    </tr>\n",
       "    <tr>\n",
       "      <th>2021-01-08</th>\n",
       "      <td>3152.18</td>\n",
       "      <td>88800.0</td>\n",
       "      <td>246000.0</td>\n",
       "      <td>999000.0</td>\n",
       "    </tr>\n",
       "  </tbody>\n",
       "</table>\n",
       "<p>5190 rows × 4 columns</p>\n",
       "</div>"
      ],
      "text/plain": [
       "                코스피     삼성전자       현대차      LG화학\n",
       "Date                                            \n",
       "2000-01-04  1059.04   6110.0   20700.0       NaN\n",
       "2000-01-05   986.31   5580.0   20800.0       NaN\n",
       "2000-01-06   960.79   5620.0   19700.0       NaN\n",
       "2000-01-07   948.65   5540.0   20300.0       NaN\n",
       "2000-01-10   987.24   5770.0   20000.0       NaN\n",
       "...             ...      ...       ...       ...\n",
       "2021-01-04  2944.45  83000.0  207500.0  889000.0\n",
       "2021-01-05  2990.57  83900.0  209500.0  893000.0\n",
       "2021-01-06  2968.21  82200.0  203000.0  890000.0\n",
       "2021-01-07  3031.68  82900.0  206000.0  962000.0\n",
       "2021-01-08  3152.18  88800.0  246000.0  999000.0\n",
       "\n",
       "[5190 rows x 4 columns]"
      ]
     },
     "execution_count": 111,
     "metadata": {},
     "output_type": "execute_result"
    }
   ],
   "source": [
    "df = pd.concat(df_list, axis=1)\n",
    "df.columns = targets\n",
    "df"
   ]
  },
  {
   "cell_type": "code",
   "execution_count": 113,
   "metadata": {},
   "outputs": [
    {
     "data": {
      "text/plain": [
       "<AxesSubplot:xlabel='Date'>"
      ]
     },
     "execution_count": 113,
     "metadata": {},
     "output_type": "execute_result"
    },
    {
     "data": {
      "image/png": "[encoded data removed]",
      "text/plain": [
       "<Figure size 432x288 with 2 Axes>"
      ]
     },
     "metadata": {
      "needs_background": "light"
     },
     "output_type": "display_data"
    }
   ],
   "source": [
    "df.plot(secondary_y=['코스피'])"
   ]
  },
  {
   "cell_type": "code",
   "execution_count": null,
   "metadata": {},
   "outputs": [],
   "source": []
  }
 ],
 "metadata": {
  "kernelspec": {
   "display_name": "Python 3",
   "language": "python",
   "name": "python3"
  },
  "language_info": {
   "codemirror_mode": {
    "name": "ipython",
    "version": 3
   },
   "file_extension": ".py",
   "mimetype": "text/x-python",
   "name": "python",
   "nbconvert_exporter": "python",
   "pygments_lexer": "ipython3",
   "version": "3.7.7"
  }
 },
 "nbformat": 4,
 "nbformat_minor": 4
}
