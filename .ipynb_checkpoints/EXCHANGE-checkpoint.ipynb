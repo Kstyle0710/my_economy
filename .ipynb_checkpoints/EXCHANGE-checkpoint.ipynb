{
 "cells": [
  {
   "cell_type": "code",
   "execution_count": 1,
   "metadata": {},
   "outputs": [],
   "source": [
    "import pandas as pd\n",
    "import FinanceDataReader as fdr\n",
    "import matplotlib.pyplot as plt\n",
    "import matplotlib as mpl"
   ]
  },
  {
   "cell_type": "markdown",
   "metadata": {},
   "source": [
    "환율\t\t<br>\n",
    ".\tUSD/KRW\t달러당 원화 환율<br>\n",
    ".\tUSD/EUR\t달러당 유로화 환율<br>\n",
    ".\tUSD/JPY\t달러당 엔화 환율<br>\n",
    ".\tCNY/KRW\t위엔화 원화 환율<br>\n",
    ".\tEUR/USD\t유로화 달러 환율<br>\n",
    ".\tUSD/JPY\t달러 엔화 환율<br>\n",
    ".\tJPY/KRW\t엔화 원화 환율<br>\n",
    ".\tAUD/USD\t오스트레일리아 달러 환율<br>\n",
    ".\tEUR/JPY\t유로화 엔화 환율<br>\n",
    ".\tUSD/RUB\t달러 루블화<br>"
   ]
  },
  {
   "cell_type": "code",
   "execution_count": null,
   "metadata": {},
   "outputs": [],
   "source": []
  }
 ],
 "metadata": {
  "kernelspec": {
   "display_name": "Python 3",
   "language": "python",
   "name": "python3"
  },
  "language_info": {
   "codemirror_mode": {
    "name": "ipython",
    "version": 3
   },
   "file_extension": ".py",
   "mimetype": "text/x-python",
   "name": "python",
   "nbconvert_exporter": "python",
   "pygments_lexer": "ipython3",
   "version": "3.7.7"
  }
 },
 "nbformat": 4,
 "nbformat_minor": 4
}
